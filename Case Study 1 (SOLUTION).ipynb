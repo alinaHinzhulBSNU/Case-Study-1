{
 "cells": [
  {
   "cell_type": "markdown",
   "id": "3f8eed3c",
   "metadata": {},
   "source": [
    "<h1><center><font color=\"#38590f\">How Does a Bike-Share Navigate Speedy Success?</font></center></h1>"
   ]
  },
  {
   "cell_type": "markdown",
   "id": "a88732d6",
   "metadata": {},
   "source": [
    "<h2><center><font color=\"grey\">(Case Study #1)</font></center></h2>"
   ]
  },
  {
   "cell_type": "markdown",
   "id": "1e543b43",
   "metadata": {},
   "source": [
    "<h3><font color=\"purple\">Packages</font></h3>"
   ]
  },
  {
   "cell_type": "code",
   "execution_count": 1,
   "id": "92175ba8",
   "metadata": {},
   "outputs": [],
   "source": [
    "# Analysis\n",
    "import numpy as np\n",
    "import pandas as pd\n",
    "pd.set_option('display.float_format', lambda x: '%.2f' % x)\n",
    "\n",
    "# Data Viz\n",
    "import matplotlib.pyplot as plt\n",
    "import seaborn as sns"
   ]
  },
  {
   "cell_type": "markdown",
   "id": "1a570148",
   "metadata": {},
   "source": [
    "<h3><font color=\"purple\">Import Data</font></h3>"
   ]
  },
  {
   "cell_type": "markdown",
   "id": "a80ab518",
   "metadata": {},
   "source": [
    "##### Read data from CSV"
   ]
  },
  {
   "cell_type": "code",
   "execution_count": 2,
   "id": "3b4b5652",
   "metadata": {},
   "outputs": [],
   "source": [
    "files = [\n",
    "    \"datasets/202201-divvy-tripdata.csv\", \n",
    "    \"datasets/202202-divvy-tripdata.csv\", \n",
    "    \"datasets/202203-divvy-tripdata.csv\", \n",
    "    \"datasets/202204-divvy-tripdata.csv\", \n",
    "    \"datasets/202205-divvy-tripdata.csv\", \n",
    "    \"datasets/202206-divvy-tripdata.csv\", \n",
    "    \"datasets/202207-divvy-tripdata.csv\", \n",
    "    \"datasets/202208-divvy-tripdata.csv\", \n",
    "    \"datasets/202209-divvy-tripdata.csv\", \n",
    "    \"datasets/202210-divvy-tripdata.csv\", \n",
    "    \"datasets/202211-divvy-tripdata.csv\", \n",
    "    \"datasets/202212-divvy-tripdata.csv\"]\n",
    "\n",
    "data = pd.concat((pd.read_csv(file) for file in files), ignore_index=True)"
   ]
  },
  {
   "cell_type": "markdown",
   "id": "6c359924",
   "metadata": {},
   "source": [
    "##### Sample"
   ]
  },
  {
   "cell_type": "code",
   "execution_count": 3,
   "id": "e3683d7e",
   "metadata": {},
   "outputs": [
    {
     "data": {
      "text/html": [
       "<div>\n",
       "<style scoped>\n",
       "    .dataframe tbody tr th:only-of-type {\n",
       "        vertical-align: middle;\n",
       "    }\n",
       "\n",
       "    .dataframe tbody tr th {\n",
       "        vertical-align: top;\n",
       "    }\n",
       "\n",
       "    .dataframe thead th {\n",
       "        text-align: right;\n",
       "    }\n",
       "</style>\n",
       "<table border=\"1\" class=\"dataframe\">\n",
       "  <thead>\n",
       "    <tr style=\"text-align: right;\">\n",
       "      <th></th>\n",
       "      <th>ride_id</th>\n",
       "      <th>rideable_type</th>\n",
       "      <th>started_at</th>\n",
       "      <th>ended_at</th>\n",
       "      <th>start_station_name</th>\n",
       "      <th>start_station_id</th>\n",
       "      <th>end_station_name</th>\n",
       "      <th>end_station_id</th>\n",
       "      <th>start_lat</th>\n",
       "      <th>start_lng</th>\n",
       "      <th>end_lat</th>\n",
       "      <th>end_lng</th>\n",
       "      <th>member_casual</th>\n",
       "    </tr>\n",
       "  </thead>\n",
       "  <tbody>\n",
       "    <tr>\n",
       "      <th>0</th>\n",
       "      <td>C2F7DD78E82EC875</td>\n",
       "      <td>electric_bike</td>\n",
       "      <td>2022-01-13 11:59:47</td>\n",
       "      <td>2022-01-13 12:02:44</td>\n",
       "      <td>Glenwood Ave &amp; Touhy Ave</td>\n",
       "      <td>525</td>\n",
       "      <td>Clark St &amp; Touhy Ave</td>\n",
       "      <td>RP-007</td>\n",
       "      <td>42.01</td>\n",
       "      <td>-87.67</td>\n",
       "      <td>42.01</td>\n",
       "      <td>-87.67</td>\n",
       "      <td>casual</td>\n",
       "    </tr>\n",
       "    <tr>\n",
       "      <th>1</th>\n",
       "      <td>A6CF8980A652D272</td>\n",
       "      <td>electric_bike</td>\n",
       "      <td>2022-01-10 08:41:56</td>\n",
       "      <td>2022-01-10 08:46:17</td>\n",
       "      <td>Glenwood Ave &amp; Touhy Ave</td>\n",
       "      <td>525</td>\n",
       "      <td>Clark St &amp; Touhy Ave</td>\n",
       "      <td>RP-007</td>\n",
       "      <td>42.01</td>\n",
       "      <td>-87.67</td>\n",
       "      <td>42.01</td>\n",
       "      <td>-87.67</td>\n",
       "      <td>casual</td>\n",
       "    </tr>\n",
       "    <tr>\n",
       "      <th>2</th>\n",
       "      <td>BD0F91DFF741C66D</td>\n",
       "      <td>classic_bike</td>\n",
       "      <td>2022-01-25 04:53:40</td>\n",
       "      <td>2022-01-25 04:58:01</td>\n",
       "      <td>Sheffield Ave &amp; Fullerton Ave</td>\n",
       "      <td>TA1306000016</td>\n",
       "      <td>Greenview Ave &amp; Fullerton Ave</td>\n",
       "      <td>TA1307000001</td>\n",
       "      <td>41.93</td>\n",
       "      <td>-87.65</td>\n",
       "      <td>41.93</td>\n",
       "      <td>-87.67</td>\n",
       "      <td>member</td>\n",
       "    </tr>\n",
       "    <tr>\n",
       "      <th>3</th>\n",
       "      <td>CBB80ED419105406</td>\n",
       "      <td>classic_bike</td>\n",
       "      <td>2022-01-04 00:18:04</td>\n",
       "      <td>2022-01-04 00:33:00</td>\n",
       "      <td>Clark St &amp; Bryn Mawr Ave</td>\n",
       "      <td>KA1504000151</td>\n",
       "      <td>Paulina St &amp; Montrose Ave</td>\n",
       "      <td>TA1309000021</td>\n",
       "      <td>41.98</td>\n",
       "      <td>-87.67</td>\n",
       "      <td>41.96</td>\n",
       "      <td>-87.67</td>\n",
       "      <td>casual</td>\n",
       "    </tr>\n",
       "    <tr>\n",
       "      <th>4</th>\n",
       "      <td>DDC963BFDDA51EEA</td>\n",
       "      <td>classic_bike</td>\n",
       "      <td>2022-01-20 01:31:10</td>\n",
       "      <td>2022-01-20 01:37:12</td>\n",
       "      <td>Michigan Ave &amp; Jackson Blvd</td>\n",
       "      <td>TA1309000002</td>\n",
       "      <td>State St &amp; Randolph St</td>\n",
       "      <td>TA1305000029</td>\n",
       "      <td>41.88</td>\n",
       "      <td>-87.62</td>\n",
       "      <td>41.88</td>\n",
       "      <td>-87.63</td>\n",
       "      <td>member</td>\n",
       "    </tr>\n",
       "  </tbody>\n",
       "</table>\n",
       "</div>"
      ],
      "text/plain": [
       "            ride_id  rideable_type           started_at             ended_at  \\\n",
       "0  C2F7DD78E82EC875  electric_bike  2022-01-13 11:59:47  2022-01-13 12:02:44   \n",
       "1  A6CF8980A652D272  electric_bike  2022-01-10 08:41:56  2022-01-10 08:46:17   \n",
       "2  BD0F91DFF741C66D   classic_bike  2022-01-25 04:53:40  2022-01-25 04:58:01   \n",
       "3  CBB80ED419105406   classic_bike  2022-01-04 00:18:04  2022-01-04 00:33:00   \n",
       "4  DDC963BFDDA51EEA   classic_bike  2022-01-20 01:31:10  2022-01-20 01:37:12   \n",
       "\n",
       "              start_station_name start_station_id  \\\n",
       "0       Glenwood Ave & Touhy Ave              525   \n",
       "1       Glenwood Ave & Touhy Ave              525   \n",
       "2  Sheffield Ave & Fullerton Ave     TA1306000016   \n",
       "3       Clark St & Bryn Mawr Ave     KA1504000151   \n",
       "4    Michigan Ave & Jackson Blvd     TA1309000002   \n",
       "\n",
       "                end_station_name end_station_id  start_lat  start_lng  \\\n",
       "0           Clark St & Touhy Ave         RP-007      42.01     -87.67   \n",
       "1           Clark St & Touhy Ave         RP-007      42.01     -87.67   \n",
       "2  Greenview Ave & Fullerton Ave   TA1307000001      41.93     -87.65   \n",
       "3      Paulina St & Montrose Ave   TA1309000021      41.98     -87.67   \n",
       "4         State St & Randolph St   TA1305000029      41.88     -87.62   \n",
       "\n",
       "   end_lat  end_lng member_casual  \n",
       "0    42.01   -87.67        casual  \n",
       "1    42.01   -87.67        casual  \n",
       "2    41.93   -87.67        member  \n",
       "3    41.96   -87.67        casual  \n",
       "4    41.88   -87.63        member  "
      ]
     },
     "execution_count": 3,
     "metadata": {},
     "output_type": "execute_result"
    }
   ],
   "source": [
    "data.head()"
   ]
  },
  {
   "cell_type": "markdown",
   "id": "308c41b5",
   "metadata": {},
   "source": [
    "<h3><font color=\"purple\">Raw Data Description</font></h3>"
   ]
  },
  {
   "cell_type": "markdown",
   "id": "9241a437",
   "metadata": {},
   "source": [
    "##### General info"
   ]
  },
  {
   "cell_type": "code",
   "execution_count": 4,
   "id": "89cfc4c9",
   "metadata": {},
   "outputs": [
    {
     "name": "stdout",
     "output_type": "stream",
     "text": [
      "<class 'pandas.core.frame.DataFrame'>\n",
      "RangeIndex: 5667717 entries, 0 to 5667716\n",
      "Data columns (total 13 columns):\n",
      " #   Column              Dtype  \n",
      "---  ------              -----  \n",
      " 0   ride_id             object \n",
      " 1   rideable_type       object \n",
      " 2   started_at          object \n",
      " 3   ended_at            object \n",
      " 4   start_station_name  object \n",
      " 5   start_station_id    object \n",
      " 6   end_station_name    object \n",
      " 7   end_station_id      object \n",
      " 8   start_lat           float64\n",
      " 9   start_lng           float64\n",
      " 10  end_lat             float64\n",
      " 11  end_lng             float64\n",
      " 12  member_casual       object \n",
      "dtypes: float64(4), object(9)\n",
      "memory usage: 562.1+ MB\n"
     ]
    }
   ],
   "source": [
    "data.info()"
   ]
  },
  {
   "cell_type": "markdown",
   "id": "680cfea6",
   "metadata": {},
   "source": [
    "##### Empty rows"
   ]
  },
  {
   "cell_type": "code",
   "execution_count": 5,
   "id": "f460231a",
   "metadata": {},
   "outputs": [
    {
     "name": "stdout",
     "output_type": "stream",
     "text": [
      "Here are 22.91% of incomplete rows\n"
     ]
    }
   ],
   "source": [
    "missing_rows_percent = (data.shape[0] - data.dropna().shape[0]) / data.shape[0] * 100\n",
    "print(f\"Here are {missing_rows_percent:.2f}% of incomplete rows\")"
   ]
  },
  {
   "cell_type": "markdown",
   "id": "899c3f08",
   "metadata": {},
   "source": [
    "##### Check typos in sets of values"
   ]
  },
  {
   "cell_type": "code",
   "execution_count": 6,
   "id": "dc669bbf",
   "metadata": {},
   "outputs": [
    {
     "data": {
      "text/plain": [
       "array(['electric_bike', 'classic_bike', 'docked_bike'], dtype=object)"
      ]
     },
     "execution_count": 6,
     "metadata": {},
     "output_type": "execute_result"
    }
   ],
   "source": [
    "data[\"rideable_type\"].unique()"
   ]
  },
  {
   "cell_type": "code",
   "execution_count": 7,
   "id": "7f1a35bb",
   "metadata": {},
   "outputs": [
    {
     "data": {
      "text/plain": [
       "array(['casual', 'member'], dtype=object)"
      ]
     },
     "execution_count": 7,
     "metadata": {},
     "output_type": "execute_result"
    }
   ],
   "source": [
    "data[\"member_casual\"].unique()"
   ]
  },
  {
   "cell_type": "markdown",
   "id": "8495aaf4",
   "metadata": {},
   "source": [
    "<h3><font color=\"purple\">Data Cleaning (Changelog)</font></h3>"
   ]
  },
  {
   "cell_type": "markdown",
   "id": "de7d04d8",
   "metadata": {},
   "source": [
    "##### 1. Get rid of cols about station id and coordinates (are not used in this analysis)"
   ]
  },
  {
   "cell_type": "code",
   "execution_count": 8,
   "id": "1773ea3a",
   "metadata": {},
   "outputs": [],
   "source": [
    "data = data.drop(columns=[\"start_station_id\", \"end_station_id\", \"start_lat\", \"start_lng\", \"end_lat\", \"end_lng\"])"
   ]
  },
  {
   "cell_type": "markdown",
   "id": "55ace7ae",
   "metadata": {},
   "source": [
    "##### 2. Get rid of rows with empty cells"
   ]
  },
  {
   "cell_type": "code",
   "execution_count": 9,
   "id": "83165942",
   "metadata": {},
   "outputs": [
    {
     "data": {
      "text/plain": [
       "ride_id               0\n",
       "rideable_type         0\n",
       "started_at            0\n",
       "ended_at              0\n",
       "start_station_name    0\n",
       "end_station_name      0\n",
       "member_casual         0\n",
       "dtype: int64"
      ]
     },
     "execution_count": 9,
     "metadata": {},
     "output_type": "execute_result"
    }
   ],
   "source": [
    "data = data.dropna()\n",
    "data.isnull().sum()"
   ]
  },
  {
   "cell_type": "markdown",
   "id": "c2068f5a",
   "metadata": {},
   "source": [
    "##### 3. Set datetime type explicitly"
   ]
  },
  {
   "cell_type": "code",
   "execution_count": 10,
   "id": "adb9da53",
   "metadata": {},
   "outputs": [],
   "source": [
    "data['started_at'] = pd.to_datetime(data['started_at'])\n",
    "data['ended_at'] = pd.to_datetime(data['ended_at'])"
   ]
  },
  {
   "cell_type": "markdown",
   "id": "3135222f",
   "metadata": {},
   "source": [
    "##### 4. Data sample after cleaning"
   ]
  },
  {
   "cell_type": "code",
   "execution_count": 11,
   "id": "b872e6a0",
   "metadata": {},
   "outputs": [
    {
     "data": {
      "text/html": [
       "<div>\n",
       "<style scoped>\n",
       "    .dataframe tbody tr th:only-of-type {\n",
       "        vertical-align: middle;\n",
       "    }\n",
       "\n",
       "    .dataframe tbody tr th {\n",
       "        vertical-align: top;\n",
       "    }\n",
       "\n",
       "    .dataframe thead th {\n",
       "        text-align: right;\n",
       "    }\n",
       "</style>\n",
       "<table border=\"1\" class=\"dataframe\">\n",
       "  <thead>\n",
       "    <tr style=\"text-align: right;\">\n",
       "      <th></th>\n",
       "      <th>ride_id</th>\n",
       "      <th>rideable_type</th>\n",
       "      <th>started_at</th>\n",
       "      <th>ended_at</th>\n",
       "      <th>start_station_name</th>\n",
       "      <th>end_station_name</th>\n",
       "      <th>member_casual</th>\n",
       "    </tr>\n",
       "  </thead>\n",
       "  <tbody>\n",
       "    <tr>\n",
       "      <th>0</th>\n",
       "      <td>C2F7DD78E82EC875</td>\n",
       "      <td>electric_bike</td>\n",
       "      <td>2022-01-13 11:59:47</td>\n",
       "      <td>2022-01-13 12:02:44</td>\n",
       "      <td>Glenwood Ave &amp; Touhy Ave</td>\n",
       "      <td>Clark St &amp; Touhy Ave</td>\n",
       "      <td>casual</td>\n",
       "    </tr>\n",
       "    <tr>\n",
       "      <th>1</th>\n",
       "      <td>A6CF8980A652D272</td>\n",
       "      <td>electric_bike</td>\n",
       "      <td>2022-01-10 08:41:56</td>\n",
       "      <td>2022-01-10 08:46:17</td>\n",
       "      <td>Glenwood Ave &amp; Touhy Ave</td>\n",
       "      <td>Clark St &amp; Touhy Ave</td>\n",
       "      <td>casual</td>\n",
       "    </tr>\n",
       "    <tr>\n",
       "      <th>2</th>\n",
       "      <td>BD0F91DFF741C66D</td>\n",
       "      <td>classic_bike</td>\n",
       "      <td>2022-01-25 04:53:40</td>\n",
       "      <td>2022-01-25 04:58:01</td>\n",
       "      <td>Sheffield Ave &amp; Fullerton Ave</td>\n",
       "      <td>Greenview Ave &amp; Fullerton Ave</td>\n",
       "      <td>member</td>\n",
       "    </tr>\n",
       "    <tr>\n",
       "      <th>3</th>\n",
       "      <td>CBB80ED419105406</td>\n",
       "      <td>classic_bike</td>\n",
       "      <td>2022-01-04 00:18:04</td>\n",
       "      <td>2022-01-04 00:33:00</td>\n",
       "      <td>Clark St &amp; Bryn Mawr Ave</td>\n",
       "      <td>Paulina St &amp; Montrose Ave</td>\n",
       "      <td>casual</td>\n",
       "    </tr>\n",
       "    <tr>\n",
       "      <th>4</th>\n",
       "      <td>DDC963BFDDA51EEA</td>\n",
       "      <td>classic_bike</td>\n",
       "      <td>2022-01-20 01:31:10</td>\n",
       "      <td>2022-01-20 01:37:12</td>\n",
       "      <td>Michigan Ave &amp; Jackson Blvd</td>\n",
       "      <td>State St &amp; Randolph St</td>\n",
       "      <td>member</td>\n",
       "    </tr>\n",
       "  </tbody>\n",
       "</table>\n",
       "</div>"
      ],
      "text/plain": [
       "            ride_id  rideable_type          started_at            ended_at  \\\n",
       "0  C2F7DD78E82EC875  electric_bike 2022-01-13 11:59:47 2022-01-13 12:02:44   \n",
       "1  A6CF8980A652D272  electric_bike 2022-01-10 08:41:56 2022-01-10 08:46:17   \n",
       "2  BD0F91DFF741C66D   classic_bike 2022-01-25 04:53:40 2022-01-25 04:58:01   \n",
       "3  CBB80ED419105406   classic_bike 2022-01-04 00:18:04 2022-01-04 00:33:00   \n",
       "4  DDC963BFDDA51EEA   classic_bike 2022-01-20 01:31:10 2022-01-20 01:37:12   \n",
       "\n",
       "              start_station_name               end_station_name member_casual  \n",
       "0       Glenwood Ave & Touhy Ave           Clark St & Touhy Ave        casual  \n",
       "1       Glenwood Ave & Touhy Ave           Clark St & Touhy Ave        casual  \n",
       "2  Sheffield Ave & Fullerton Ave  Greenview Ave & Fullerton Ave        member  \n",
       "3       Clark St & Bryn Mawr Ave      Paulina St & Montrose Ave        casual  \n",
       "4    Michigan Ave & Jackson Blvd         State St & Randolph St        member  "
      ]
     },
     "execution_count": 11,
     "metadata": {},
     "output_type": "execute_result"
    }
   ],
   "source": [
    "data.head()"
   ]
  },
  {
   "cell_type": "markdown",
   "id": "ce5dc7c7",
   "metadata": {},
   "source": [
    "<h3><font color=\"purple\">Data Transformation</font></h3>"
   ]
  },
  {
   "cell_type": "markdown",
   "id": "c77c5f69",
   "metadata": {},
   "source": [
    "##### 1. Add separate columns about date and time"
   ]
  },
  {
   "cell_type": "code",
   "execution_count": 12,
   "id": "b83c690b",
   "metadata": {},
   "outputs": [],
   "source": [
    "# Start\n",
    "data[\"start_time\"] = data[\"started_at\"].dt.time\n",
    "data[\"start_date\"] = data[\"started_at\"].dt.date\n",
    "\n",
    "# End\n",
    "data[\"end_time\"] = data[\"ended_at\"].dt.time\n",
    "data[\"end_date\"] = data[\"ended_at\"].dt.date"
   ]
  },
  {
   "cell_type": "markdown",
   "id": "0c83f46a",
   "metadata": {},
   "source": [
    "##### 2. Add trip route"
   ]
  },
  {
   "cell_type": "code",
   "execution_count": 13,
   "id": "8e144be0",
   "metadata": {},
   "outputs": [],
   "source": [
    "data[\"trip_route\"] = data[\"start_station_name\"] + \" to \" + data[\"end_station_name\"]"
   ]
  },
  {
   "cell_type": "markdown",
   "id": "70e19ffa",
   "metadata": {},
   "source": [
    "##### 3. Add trip duration (in minutes)"
   ]
  },
  {
   "cell_type": "code",
   "execution_count": 14,
   "id": "b75f61e8",
   "metadata": {},
   "outputs": [],
   "source": [
    "data[\"trip_duration_minutes\"] = (data[\"ended_at\"] - data[\"started_at\"]).dt.total_seconds() / 60"
   ]
  },
  {
   "cell_type": "markdown",
   "id": "422c2f74",
   "metadata": {},
   "source": [
    "##### 4. Exclude rows with negative trip duration"
   ]
  },
  {
   "cell_type": "code",
   "execution_count": 15,
   "id": "fee83e81",
   "metadata": {},
   "outputs": [
    {
     "name": "stdout",
     "output_type": "stream",
     "text": [
      "Dataset length before: 4369360\n"
     ]
    }
   ],
   "source": [
    "length_before = data.shape[0]\n",
    "print(f\"Dataset length before: {length_before}\")"
   ]
  },
  {
   "cell_type": "code",
   "execution_count": 16,
   "id": "c75a7cc1",
   "metadata": {},
   "outputs": [],
   "source": [
    "time_error_rows = data[data[\"trip_duration_minutes\"] < 0]\n",
    "data = data[~data[\"ride_id\"].isin(time_error_rows[\"ride_id\"])]"
   ]
  },
  {
   "cell_type": "code",
   "execution_count": 17,
   "id": "6c1ade05",
   "metadata": {},
   "outputs": [
    {
     "name": "stdout",
     "output_type": "stream",
     "text": [
      "Dataset length after: 4369291\n"
     ]
    }
   ],
   "source": [
    "length_after = data.shape[0]\n",
    "print(f\"Dataset length after: {length_after}\")"
   ]
  },
  {
   "cell_type": "markdown",
   "id": "442e7cac",
   "metadata": {},
   "source": [
    "##### 5. Get rid of extra columns"
   ]
  },
  {
   "cell_type": "code",
   "execution_count": 18,
   "id": "afa25b82",
   "metadata": {},
   "outputs": [],
   "source": [
    "data = data.drop(columns=[\"started_at\", \"ended_at\", \"start_station_name\", \"end_station_name\"])"
   ]
  },
  {
   "cell_type": "markdown",
   "id": "243d680b",
   "metadata": {},
   "source": [
    "##### 6. Add distinct column about hours"
   ]
  },
  {
   "cell_type": "code",
   "execution_count": 19,
   "id": "750ee69f",
   "metadata": {},
   "outputs": [],
   "source": [
    "data[\"hour\"] = data.apply(lambda time: time[\"start_time\"].hour, axis=1)"
   ]
  },
  {
   "cell_type": "code",
   "execution_count": 20,
   "id": "09c4de65",
   "metadata": {},
   "outputs": [],
   "source": [
    "data[\"start_date\"] = pd.to_datetime(data[\"start_date\"])\n",
    "data[\"month\"] = data[\"start_date\"].dt.month_name()"
   ]
  },
  {
   "cell_type": "markdown",
   "id": "3e5c01f7",
   "metadata": {},
   "source": [
    "##### 7. Prepared Data Sample"
   ]
  },
  {
   "cell_type": "code",
   "execution_count": 21,
   "id": "6229948a",
   "metadata": {},
   "outputs": [
    {
     "data": {
      "text/html": [
       "<div>\n",
       "<style scoped>\n",
       "    .dataframe tbody tr th:only-of-type {\n",
       "        vertical-align: middle;\n",
       "    }\n",
       "\n",
       "    .dataframe tbody tr th {\n",
       "        vertical-align: top;\n",
       "    }\n",
       "\n",
       "    .dataframe thead th {\n",
       "        text-align: right;\n",
       "    }\n",
       "</style>\n",
       "<table border=\"1\" class=\"dataframe\">\n",
       "  <thead>\n",
       "    <tr style=\"text-align: right;\">\n",
       "      <th></th>\n",
       "      <th>ride_id</th>\n",
       "      <th>rideable_type</th>\n",
       "      <th>member_casual</th>\n",
       "      <th>start_time</th>\n",
       "      <th>start_date</th>\n",
       "      <th>end_time</th>\n",
       "      <th>end_date</th>\n",
       "      <th>trip_route</th>\n",
       "      <th>trip_duration_minutes</th>\n",
       "      <th>hour</th>\n",
       "      <th>month</th>\n",
       "    </tr>\n",
       "  </thead>\n",
       "  <tbody>\n",
       "    <tr>\n",
       "      <th>0</th>\n",
       "      <td>C2F7DD78E82EC875</td>\n",
       "      <td>electric_bike</td>\n",
       "      <td>casual</td>\n",
       "      <td>11:59:47</td>\n",
       "      <td>2022-01-13</td>\n",
       "      <td>12:02:44</td>\n",
       "      <td>2022-01-13</td>\n",
       "      <td>Glenwood Ave &amp; Touhy Ave to Clark St &amp; Touhy Ave</td>\n",
       "      <td>2.95</td>\n",
       "      <td>11</td>\n",
       "      <td>January</td>\n",
       "    </tr>\n",
       "    <tr>\n",
       "      <th>1</th>\n",
       "      <td>A6CF8980A652D272</td>\n",
       "      <td>electric_bike</td>\n",
       "      <td>casual</td>\n",
       "      <td>08:41:56</td>\n",
       "      <td>2022-01-10</td>\n",
       "      <td>08:46:17</td>\n",
       "      <td>2022-01-10</td>\n",
       "      <td>Glenwood Ave &amp; Touhy Ave to Clark St &amp; Touhy Ave</td>\n",
       "      <td>4.35</td>\n",
       "      <td>8</td>\n",
       "      <td>January</td>\n",
       "    </tr>\n",
       "    <tr>\n",
       "      <th>2</th>\n",
       "      <td>BD0F91DFF741C66D</td>\n",
       "      <td>classic_bike</td>\n",
       "      <td>member</td>\n",
       "      <td>04:53:40</td>\n",
       "      <td>2022-01-25</td>\n",
       "      <td>04:58:01</td>\n",
       "      <td>2022-01-25</td>\n",
       "      <td>Sheffield Ave &amp; Fullerton Ave to Greenview Ave...</td>\n",
       "      <td>4.35</td>\n",
       "      <td>4</td>\n",
       "      <td>January</td>\n",
       "    </tr>\n",
       "    <tr>\n",
       "      <th>3</th>\n",
       "      <td>CBB80ED419105406</td>\n",
       "      <td>classic_bike</td>\n",
       "      <td>casual</td>\n",
       "      <td>00:18:04</td>\n",
       "      <td>2022-01-04</td>\n",
       "      <td>00:33:00</td>\n",
       "      <td>2022-01-04</td>\n",
       "      <td>Clark St &amp; Bryn Mawr Ave to Paulina St &amp; Montr...</td>\n",
       "      <td>14.93</td>\n",
       "      <td>0</td>\n",
       "      <td>January</td>\n",
       "    </tr>\n",
       "    <tr>\n",
       "      <th>4</th>\n",
       "      <td>DDC963BFDDA51EEA</td>\n",
       "      <td>classic_bike</td>\n",
       "      <td>member</td>\n",
       "      <td>01:31:10</td>\n",
       "      <td>2022-01-20</td>\n",
       "      <td>01:37:12</td>\n",
       "      <td>2022-01-20</td>\n",
       "      <td>Michigan Ave &amp; Jackson Blvd to State St &amp; Rand...</td>\n",
       "      <td>6.03</td>\n",
       "      <td>1</td>\n",
       "      <td>January</td>\n",
       "    </tr>\n",
       "  </tbody>\n",
       "</table>\n",
       "</div>"
      ],
      "text/plain": [
       "            ride_id  rideable_type member_casual start_time start_date  \\\n",
       "0  C2F7DD78E82EC875  electric_bike        casual   11:59:47 2022-01-13   \n",
       "1  A6CF8980A652D272  electric_bike        casual   08:41:56 2022-01-10   \n",
       "2  BD0F91DFF741C66D   classic_bike        member   04:53:40 2022-01-25   \n",
       "3  CBB80ED419105406   classic_bike        casual   00:18:04 2022-01-04   \n",
       "4  DDC963BFDDA51EEA   classic_bike        member   01:31:10 2022-01-20   \n",
       "\n",
       "   end_time    end_date                                         trip_route  \\\n",
       "0  12:02:44  2022-01-13   Glenwood Ave & Touhy Ave to Clark St & Touhy Ave   \n",
       "1  08:46:17  2022-01-10   Glenwood Ave & Touhy Ave to Clark St & Touhy Ave   \n",
       "2  04:58:01  2022-01-25  Sheffield Ave & Fullerton Ave to Greenview Ave...   \n",
       "3  00:33:00  2022-01-04  Clark St & Bryn Mawr Ave to Paulina St & Montr...   \n",
       "4  01:37:12  2022-01-20  Michigan Ave & Jackson Blvd to State St & Rand...   \n",
       "\n",
       "   trip_duration_minutes  hour    month  \n",
       "0                   2.95    11  January  \n",
       "1                   4.35     8  January  \n",
       "2                   4.35     4  January  \n",
       "3                  14.93     0  January  \n",
       "4                   6.03     1  January  "
      ]
     },
     "execution_count": 21,
     "metadata": {},
     "output_type": "execute_result"
    }
   ],
   "source": [
    "data.head()"
   ]
  },
  {
   "cell_type": "markdown",
   "id": "8f2c8af8",
   "metadata": {},
   "source": [
    "<h3><font color=\"purple\">Data Analysis</font></h3>"
   ]
  },
  {
   "cell_type": "markdown",
   "id": "0277e7f7",
   "metadata": {},
   "source": [
    "#### 1. Percent of casual riders and members "
   ]
  },
  {
   "cell_type": "code",
   "execution_count": 22,
   "id": "a231d494",
   "metadata": {},
   "outputs": [
    {
     "data": {
      "text/plain": [
       "member   59.76\n",
       "casual   40.24\n",
       "Name: member_casual, dtype: float64"
      ]
     },
     "execution_count": 22,
     "metadata": {},
     "output_type": "execute_result"
    }
   ],
   "source": [
    "data[\"member_casual\"].value_counts(normalize=True) * 100"
   ]
  },
  {
   "cell_type": "markdown",
   "id": "5d67de0a",
   "metadata": {},
   "source": [
    "#### 2. Preferences in rideable type"
   ]
  },
  {
   "cell_type": "markdown",
   "id": "8b3928ee",
   "metadata": {},
   "source": [
    "##### - General preferences"
   ]
  },
  {
   "cell_type": "code",
   "execution_count": 23,
   "id": "b9102ac3",
   "metadata": {
    "scrolled": false
   },
   "outputs": [
    {
     "data": {
      "image/png": "[encoded data removed]",
      "text/plain": [
       "<Figure size 640x480 with 1 Axes>"
      ]
     },
     "metadata": {},
     "output_type": "display_data"
    }
   ],
   "source": [
    "ax = sns.countplot(data=data, x=\"rideable_type\", hue=\"member_casual\")\n",
    "\n",
    "ax.set(xlabel=\"Preferences in rideable type\",\n",
    "       ylabel=\"Quantity of Trips\",\n",
    "       title=\"Rideable Type\")\n",
    "\n",
    "plt.show()"
   ]
  },
  {
   "cell_type": "markdown",
   "id": "1b233c67",
   "metadata": {},
   "source": [
    "##### - Classic bike preferences (members)"
   ]
  },
  {
   "cell_type": "code",
   "execution_count": 24,
   "id": "64830313",
   "metadata": {},
   "outputs": [
    {
     "data": {
      "text/plain": [
       "classic_bike    65.44\n",
       "electric_bike   34.56\n",
       "Name: rideable_type, dtype: float64"
      ]
     },
     "execution_count": 24,
     "metadata": {},
     "output_type": "execute_result"
    }
   ],
   "source": [
    "data[data[\"member_casual\"] == \"member\"][\"rideable_type\"].value_counts(normalize=True) * 100"
   ]
  },
  {
   "cell_type": "markdown",
   "id": "29911074",
   "metadata": {},
   "source": [
    "##### - Classic bike preferences (casual riders)"
   ]
  },
  {
   "cell_type": "code",
   "execution_count": 25,
   "id": "b71b5840",
   "metadata": {},
   "outputs": [
    {
     "data": {
      "text/plain": [
       "classic_bike    50.55\n",
       "electric_bike   39.50\n",
       "docked_bike      9.95\n",
       "Name: rideable_type, dtype: float64"
      ]
     },
     "execution_count": 25,
     "metadata": {},
     "output_type": "execute_result"
    }
   ],
   "source": [
    "data[data[\"member_casual\"] == \"casual\"][\"rideable_type\"].value_counts(normalize=True) * 100"
   ]
  },
  {
   "cell_type": "markdown",
   "id": "992a639d",
   "metadata": {},
   "source": [
    "##### 3. Trip duration for different types of riders"
   ]
  },
  {
   "cell_type": "markdown",
   "id": "26b93a9b",
   "metadata": {},
   "source": [
    "##### - General comparison"
   ]
  },
  {
   "cell_type": "code",
   "execution_count": 26,
   "id": "5ccd2b7b",
   "metadata": {},
   "outputs": [
    {
     "data": {
      "text/html": [
       "<div>\n",
       "<style scoped>\n",
       "    .dataframe tbody tr th:only-of-type {\n",
       "        vertical-align: middle;\n",
       "    }\n",
       "\n",
       "    .dataframe tbody tr th {\n",
       "        vertical-align: top;\n",
       "    }\n",
       "\n",
       "    .dataframe thead th {\n",
       "        text-align: right;\n",
       "    }\n",
       "</style>\n",
       "<table border=\"1\" class=\"dataframe\">\n",
       "  <thead>\n",
       "    <tr style=\"text-align: right;\">\n",
       "      <th></th>\n",
       "      <th>member_casual</th>\n",
       "      <th>mean</th>\n",
       "      <th>std</th>\n",
       "      <th>max</th>\n",
       "      <th>min</th>\n",
       "    </tr>\n",
       "  </thead>\n",
       "  <tbody>\n",
       "    <tr>\n",
       "      <th>0</th>\n",
       "      <td>casual</td>\n",
       "      <td>23.99</td>\n",
       "      <td>71.25</td>\n",
       "      <td>34354.07</td>\n",
       "      <td>0.00</td>\n",
       "    </tr>\n",
       "    <tr>\n",
       "      <th>1</th>\n",
       "      <td>member</td>\n",
       "      <td>12.45</td>\n",
       "      <td>19.03</td>\n",
       "      <td>1493.23</td>\n",
       "      <td>0.00</td>\n",
       "    </tr>\n",
       "  </tbody>\n",
       "</table>\n",
       "</div>"
      ],
      "text/plain": [
       "  member_casual  mean   std      max  min\n",
       "0        casual 23.99 71.25 34354.07 0.00\n",
       "1        member 12.45 19.03  1493.23 0.00"
      ]
     },
     "execution_count": 26,
     "metadata": {},
     "output_type": "execute_result"
    }
   ],
   "source": [
    "stats = data[[\"member_casual\", \"trip_duration_minutes\"]] \\\n",
    ".groupby([\"member_casual\"]) \\\n",
    ".agg({\"trip_duration_minutes\": [\"mean\", \"std\", \"max\", \"min\"]}).reset_index()\n",
    "\n",
    "stats.columns =  stats.columns.droplevel()\n",
    "stats = stats.rename(columns={'': \"member_casual\"})\n",
    "stats"
   ]
  },
  {
   "cell_type": "code",
   "execution_count": 36,
   "id": "0f54dfc1",
   "metadata": {},
   "outputs": [
    {
     "name": "stdout",
     "output_type": "stream",
     "text": [
      "Casual riders' trips are 1.93 times longer than members' trips\n"
     ]
    }
   ],
   "source": [
    "casual_rider_mean = stats[stats[\"member_casual\"] == \"casual\"][\"mean\"].values[0]\n",
    "member_mean = stats[stats[\"member_casual\"] == \"member\"][\"mean\"].values[0]\n",
    "\n",
    "diff = casual_rider_mean / member_mean\n",
    "\n",
    "print(f\"Casual riders' trips are {diff:.2f} times longer than members' trips\")"
   ]
  },
  {
   "cell_type": "markdown",
   "id": "7d6826cf",
   "metadata": {},
   "source": [
    "##### 4. Preferred routes"
   ]
  },
  {
   "cell_type": "code",
   "execution_count": 28,
   "id": "46db106e",
   "metadata": {},
   "outputs": [],
   "source": [
    "# Count quantity of trips for every route\n",
    "routes = data[[\"member_casual\", \"trip_route\", \"ride_id\"]] \\\n",
    ".groupby([\"member_casual\", \"trip_route\"]) \\\n",
    ".agg({\"ride_id\": [\"count\"]}).reset_index()\n",
    "\n",
    "# Get the most popular routes for every type of customer\n",
    "routes[\"count\"] = routes[\"ride_id\"][\"count\"] # get rid of extra layer in index\n",
    "routes = routes[[\"member_casual\", \"trip_route\", \"count\"]].sort_values(by=\"count\", ascending=False) # sorting\n",
    "routes = routes.groupby(\"member_casual\").head(10) # first 10 for every type"
   ]
  },
  {
   "cell_type": "markdown",
   "id": "662e151e",
   "metadata": {},
   "source": [
    "##### - Preferred routes of casual riders"
   ]
  },
  {
   "cell_type": "code",
   "execution_count": 29,
   "id": "cbe2e375",
   "metadata": {},
   "outputs": [
    {
     "data": {
      "text/html": [
       "<div>\n",
       "<style scoped>\n",
       "    .dataframe tbody tr th:only-of-type {\n",
       "        vertical-align: middle;\n",
       "    }\n",
       "\n",
       "    .dataframe tbody tr th {\n",
       "        vertical-align: top;\n",
       "    }\n",
       "\n",
       "    .dataframe thead tr th {\n",
       "        text-align: left;\n",
       "    }\n",
       "</style>\n",
       "<table border=\"1\" class=\"dataframe\">\n",
       "  <thead>\n",
       "    <tr>\n",
       "      <th></th>\n",
       "      <th>trip_route</th>\n",
       "      <th>count</th>\n",
       "    </tr>\n",
       "    <tr>\n",
       "      <th></th>\n",
       "      <th></th>\n",
       "      <th></th>\n",
       "    </tr>\n",
       "  </thead>\n",
       "  <tbody>\n",
       "    <tr>\n",
       "      <th>116367</th>\n",
       "      <td>Streeter Dr &amp; Grand Ave to Streeter Dr &amp; Grand...</td>\n",
       "      <td>10631</td>\n",
       "    </tr>\n",
       "    <tr>\n",
       "      <th>42714</th>\n",
       "      <td>DuSable Lake Shore Dr &amp; Monroe St to DuSable L...</td>\n",
       "      <td>6615</td>\n",
       "    </tr>\n",
       "    <tr>\n",
       "      <th>42939</th>\n",
       "      <td>DuSable Lake Shore Dr &amp; Monroe St to Streeter ...</td>\n",
       "      <td>5100</td>\n",
       "    </tr>\n",
       "    <tr>\n",
       "      <th>80749</th>\n",
       "      <td>Michigan Ave &amp; Oak St to Michigan Ave &amp; Oak St</td>\n",
       "      <td>4612</td>\n",
       "    </tr>\n",
       "    <tr>\n",
       "      <th>82604</th>\n",
       "      <td>Millennium Park to Millennium Park</td>\n",
       "      <td>4060</td>\n",
       "    </tr>\n",
       "    <tr>\n",
       "      <th>84539</th>\n",
       "      <td>Montrose Harbor to Montrose Harbor</td>\n",
       "      <td>2939</td>\n",
       "    </tr>\n",
       "    <tr>\n",
       "      <th>116106</th>\n",
       "      <td>Streeter Dr &amp; Grand Ave to DuSable Lake Shore ...</td>\n",
       "      <td>2854</td>\n",
       "    </tr>\n",
       "    <tr>\n",
       "      <th>116252</th>\n",
       "      <td>Streeter Dr &amp; Grand Ave to Millennium Park</td>\n",
       "      <td>2735</td>\n",
       "    </tr>\n",
       "    <tr>\n",
       "      <th>103722</th>\n",
       "      <td>Shedd Aquarium to Shedd Aquarium</td>\n",
       "      <td>2479</td>\n",
       "    </tr>\n",
       "    <tr>\n",
       "      <th>43124</th>\n",
       "      <td>DuSable Lake Shore Dr &amp; North Blvd to DuSable ...</td>\n",
       "      <td>2439</td>\n",
       "    </tr>\n",
       "  </tbody>\n",
       "</table>\n",
       "</div>"
      ],
      "text/plain": [
       "                                               trip_route  count\n",
       "                                                                \n",
       "116367  Streeter Dr & Grand Ave to Streeter Dr & Grand...  10631\n",
       "42714   DuSable Lake Shore Dr & Monroe St to DuSable L...   6615\n",
       "42939   DuSable Lake Shore Dr & Monroe St to Streeter ...   5100\n",
       "80749      Michigan Ave & Oak St to Michigan Ave & Oak St   4612\n",
       "82604                  Millennium Park to Millennium Park   4060\n",
       "84539                  Montrose Harbor to Montrose Harbor   2939\n",
       "116106  Streeter Dr & Grand Ave to DuSable Lake Shore ...   2854\n",
       "116252         Streeter Dr & Grand Ave to Millennium Park   2735\n",
       "103722                   Shedd Aquarium to Shedd Aquarium   2479\n",
       "43124   DuSable Lake Shore Dr & North Blvd to DuSable ...   2439"
      ]
     },
     "execution_count": 29,
     "metadata": {},
     "output_type": "execute_result"
    }
   ],
   "source": [
    "routes[routes[\"member_casual\"] == \"casual\"][[\"trip_route\", \"count\"]]"
   ]
  },
  {
   "cell_type": "markdown",
   "id": "7a3f414e",
   "metadata": {},
   "source": [
    "##### - Preferred routes of members"
   ]
  },
  {
   "cell_type": "code",
   "execution_count": 30,
   "id": "a3dce093",
   "metadata": {},
   "outputs": [
    {
     "data": {
      "text/html": [
       "<div>\n",
       "<style scoped>\n",
       "    .dataframe tbody tr th:only-of-type {\n",
       "        vertical-align: middle;\n",
       "    }\n",
       "\n",
       "    .dataframe tbody tr th {\n",
       "        vertical-align: top;\n",
       "    }\n",
       "\n",
       "    .dataframe thead tr th {\n",
       "        text-align: left;\n",
       "    }\n",
       "</style>\n",
       "<table border=\"1\" class=\"dataframe\">\n",
       "  <thead>\n",
       "    <tr>\n",
       "      <th></th>\n",
       "      <th>trip_route</th>\n",
       "      <th>count</th>\n",
       "    </tr>\n",
       "    <tr>\n",
       "      <th></th>\n",
       "      <th></th>\n",
       "      <th></th>\n",
       "    </tr>\n",
       "  </thead>\n",
       "  <tbody>\n",
       "    <tr>\n",
       "      <th>180995</th>\n",
       "      <td>Ellis Ave &amp; 60th St to University Ave &amp; 57th St</td>\n",
       "      <td>5848</td>\n",
       "    </tr>\n",
       "    <tr>\n",
       "      <th>257660</th>\n",
       "      <td>University Ave &amp; 57th St to Ellis Ave &amp; 60th St</td>\n",
       "      <td>5544</td>\n",
       "    </tr>\n",
       "    <tr>\n",
       "      <th>180923</th>\n",
       "      <td>Ellis Ave &amp; 60th St to Ellis Ave &amp; 55th St</td>\n",
       "      <td>5278</td>\n",
       "    </tr>\n",
       "    <tr>\n",
       "      <th>180694</th>\n",
       "      <td>Ellis Ave &amp; 55th St to Ellis Ave &amp; 60th St</td>\n",
       "      <td>4745</td>\n",
       "    </tr>\n",
       "    <tr>\n",
       "      <th>251913</th>\n",
       "      <td>State St &amp; 33rd St to Calumet Ave &amp; 33rd St</td>\n",
       "      <td>3268</td>\n",
       "    </tr>\n",
       "    <tr>\n",
       "      <th>149225</th>\n",
       "      <td>Calumet Ave &amp; 33rd St to State St &amp; 33rd St</td>\n",
       "      <td>3215</td>\n",
       "    </tr>\n",
       "    <tr>\n",
       "      <th>212872</th>\n",
       "      <td>Loomis St &amp; Lexington St to Morgan St &amp; Polk St</td>\n",
       "      <td>2891</td>\n",
       "    </tr>\n",
       "    <tr>\n",
       "      <th>223865</th>\n",
       "      <td>Morgan St &amp; Polk St to Loomis St &amp; Lexington St</td>\n",
       "      <td>2876</td>\n",
       "    </tr>\n",
       "    <tr>\n",
       "      <th>257681</th>\n",
       "      <td>University Ave &amp; 57th St to Kimbark Ave &amp; 53rd St</td>\n",
       "      <td>2267</td>\n",
       "    </tr>\n",
       "    <tr>\n",
       "      <th>212804</th>\n",
       "      <td>Loomis St &amp; Lexington St to Halsted St &amp; Polk St</td>\n",
       "      <td>2091</td>\n",
       "    </tr>\n",
       "  </tbody>\n",
       "</table>\n",
       "</div>"
      ],
      "text/plain": [
       "                                               trip_route count\n",
       "                                                               \n",
       "180995    Ellis Ave & 60th St to University Ave & 57th St  5848\n",
       "257660    University Ave & 57th St to Ellis Ave & 60th St  5544\n",
       "180923         Ellis Ave & 60th St to Ellis Ave & 55th St  5278\n",
       "180694         Ellis Ave & 55th St to Ellis Ave & 60th St  4745\n",
       "251913        State St & 33rd St to Calumet Ave & 33rd St  3268\n",
       "149225        Calumet Ave & 33rd St to State St & 33rd St  3215\n",
       "212872    Loomis St & Lexington St to Morgan St & Polk St  2891\n",
       "223865    Morgan St & Polk St to Loomis St & Lexington St  2876\n",
       "257681  University Ave & 57th St to Kimbark Ave & 53rd St  2267\n",
       "212804   Loomis St & Lexington St to Halsted St & Polk St  2091"
      ]
     },
     "execution_count": 30,
     "metadata": {},
     "output_type": "execute_result"
    }
   ],
   "source": [
    "routes[routes[\"member_casual\"] == \"member\"][[\"trip_route\", \"count\"]]"
   ]
  },
  {
   "cell_type": "markdown",
   "id": "85db6e40",
   "metadata": {},
   "source": [
    "##### 5. Time preferences "
   ]
  },
  {
   "cell_type": "markdown",
   "id": "b9ea2508",
   "metadata": {},
   "source": [
    "##### - Calculate statistic about rush hours"
   ]
  },
  {
   "cell_type": "code",
   "execution_count": 31,
   "id": "c5e26be8",
   "metadata": {},
   "outputs": [],
   "source": [
    "hours_stat = data[[\"hour\", \"member_casual\"]].groupby([\"member_casual\", \"hour\"]).agg({\"hour\": [\"count\"]}).reset_index()\n",
    "\n",
    "hours_stat.columns = hours_stat.columns.droplevel()\n",
    "hours_stat.columns.values[0] = \"member_casual\"\n",
    "hours_stat.columns.values[1] = \"hour\""
   ]
  },
  {
   "cell_type": "markdown",
   "id": "b4a0eb4f",
   "metadata": {},
   "source": [
    "##### - Rush Hour Visualization"
   ]
  },
  {
   "cell_type": "code",
   "execution_count": 32,
   "id": "40f1d545",
   "metadata": {},
   "outputs": [
    {
     "data": {
      "image/png": "[encoded data removed]",
      "text/plain": [
       "<Figure size 1000x500 with 1 Axes>"
      ]
     },
     "metadata": {},
     "output_type": "display_data"
    }
   ],
   "source": [
    "plt.figure(figsize=(10, 5))\n",
    "\n",
    "ax = sns.lineplot(data=hours_stat, x = \"hour\", y = \"count\", hue = \"member_casual\")\n",
    "\n",
    "ax.set(xlabel=\"Hour\",\n",
    "       ylabel=\"Quantity of Rides\",\n",
    "       xticks = np.arange(data[\"hour\"].min(), data[\"hour\"].max() + 1, 1.0),\n",
    "       title=\"Rush Hours\")\n",
    "\n",
    "plt.show()"
   ]
  },
  {
   "cell_type": "markdown",
   "id": "cf9ee5a3",
   "metadata": {},
   "source": [
    "##### 6. Seasonality"
   ]
  },
  {
   "cell_type": "markdown",
   "id": "a4586991",
   "metadata": {},
   "source": [
    "##### - Calculate statistics about seasonality"
   ]
  },
  {
   "cell_type": "code",
   "execution_count": 33,
   "id": "9b3f058e",
   "metadata": {},
   "outputs": [
    {
     "data": {
      "text/html": [
       "<div>\n",
       "<style scoped>\n",
       "    .dataframe tbody tr th:only-of-type {\n",
       "        vertical-align: middle;\n",
       "    }\n",
       "\n",
       "    .dataframe tbody tr th {\n",
       "        vertical-align: top;\n",
       "    }\n",
       "\n",
       "    .dataframe thead th {\n",
       "        text-align: right;\n",
       "    }\n",
       "</style>\n",
       "<table border=\"1\" class=\"dataframe\">\n",
       "  <thead>\n",
       "    <tr style=\"text-align: right;\">\n",
       "      <th></th>\n",
       "      <th>member_casual</th>\n",
       "      <th>month</th>\n",
       "      <th>count</th>\n",
       "    </tr>\n",
       "  </thead>\n",
       "  <tbody>\n",
       "    <tr>\n",
       "      <th>0</th>\n",
       "      <td>casual</td>\n",
       "      <td>April</td>\n",
       "      <td>91897</td>\n",
       "    </tr>\n",
       "    <tr>\n",
       "      <th>12</th>\n",
       "      <td>member</td>\n",
       "      <td>April</td>\n",
       "      <td>180663</td>\n",
       "    </tr>\n",
       "    <tr>\n",
       "      <th>1</th>\n",
       "      <td>casual</td>\n",
       "      <td>August</td>\n",
       "      <td>270089</td>\n",
       "    </tr>\n",
       "    <tr>\n",
       "      <th>13</th>\n",
       "      <td>member</td>\n",
       "      <td>August</td>\n",
       "      <td>335224</td>\n",
       "    </tr>\n",
       "    <tr>\n",
       "      <th>2</th>\n",
       "      <td>casual</td>\n",
       "      <td>December</td>\n",
       "      <td>31505</td>\n",
       "    </tr>\n",
       "    <tr>\n",
       "      <th>14</th>\n",
       "      <td>member</td>\n",
       "      <td>December</td>\n",
       "      <td>103898</td>\n",
       "    </tr>\n",
       "    <tr>\n",
       "      <th>3</th>\n",
       "      <td>casual</td>\n",
       "      <td>February</td>\n",
       "      <td>15144</td>\n",
       "    </tr>\n",
       "    <tr>\n",
       "      <th>15</th>\n",
       "      <td>member</td>\n",
       "      <td>February</td>\n",
       "      <td>74034</td>\n",
       "    </tr>\n",
       "    <tr>\n",
       "      <th>4</th>\n",
       "      <td>casual</td>\n",
       "      <td>January</td>\n",
       "      <td>12605</td>\n",
       "    </tr>\n",
       "    <tr>\n",
       "      <th>16</th>\n",
       "      <td>member</td>\n",
       "      <td>January</td>\n",
       "      <td>67523</td>\n",
       "    </tr>\n",
       "    <tr>\n",
       "      <th>17</th>\n",
       "      <td>member</td>\n",
       "      <td>July</td>\n",
       "      <td>330996</td>\n",
       "    </tr>\n",
       "    <tr>\n",
       "      <th>5</th>\n",
       "      <td>casual</td>\n",
       "      <td>July</td>\n",
       "      <td>311670</td>\n",
       "    </tr>\n",
       "    <tr>\n",
       "      <th>18</th>\n",
       "      <td>member</td>\n",
       "      <td>June</td>\n",
       "      <td>328281</td>\n",
       "    </tr>\n",
       "    <tr>\n",
       "      <th>6</th>\n",
       "      <td>casual</td>\n",
       "      <td>June</td>\n",
       "      <td>292067</td>\n",
       "    </tr>\n",
       "    <tr>\n",
       "      <th>19</th>\n",
       "      <td>member</td>\n",
       "      <td>March</td>\n",
       "      <td>148827</td>\n",
       "    </tr>\n",
       "    <tr>\n",
       "      <th>7</th>\n",
       "      <td>casual</td>\n",
       "      <td>March</td>\n",
       "      <td>67154</td>\n",
       "    </tr>\n",
       "    <tr>\n",
       "      <th>20</th>\n",
       "      <td>member</td>\n",
       "      <td>May</td>\n",
       "      <td>282299</td>\n",
       "    </tr>\n",
       "    <tr>\n",
       "      <th>8</th>\n",
       "      <td>casual</td>\n",
       "      <td>May</td>\n",
       "      <td>220246</td>\n",
       "    </tr>\n",
       "    <tr>\n",
       "      <th>21</th>\n",
       "      <td>member</td>\n",
       "      <td>November</td>\n",
       "      <td>182226</td>\n",
       "    </tr>\n",
       "    <tr>\n",
       "      <th>9</th>\n",
       "      <td>casual</td>\n",
       "      <td>November</td>\n",
       "      <td>73536</td>\n",
       "    </tr>\n",
       "    <tr>\n",
       "      <th>22</th>\n",
       "      <td>member</td>\n",
       "      <td>October</td>\n",
       "      <td>262943</td>\n",
       "    </tr>\n",
       "    <tr>\n",
       "      <th>10</th>\n",
       "      <td>casual</td>\n",
       "      <td>October</td>\n",
       "      <td>151324</td>\n",
       "    </tr>\n",
       "    <tr>\n",
       "      <th>11</th>\n",
       "      <td>casual</td>\n",
       "      <td>September</td>\n",
       "      <td>220913</td>\n",
       "    </tr>\n",
       "    <tr>\n",
       "      <th>23</th>\n",
       "      <td>member</td>\n",
       "      <td>September</td>\n",
       "      <td>314227</td>\n",
       "    </tr>\n",
       "  </tbody>\n",
       "</table>\n",
       "</div>"
      ],
      "text/plain": [
       "   member_casual      month   count\n",
       "0         casual      April   91897\n",
       "12        member      April  180663\n",
       "1         casual     August  270089\n",
       "13        member     August  335224\n",
       "2         casual   December   31505\n",
       "14        member   December  103898\n",
       "3         casual   February   15144\n",
       "15        member   February   74034\n",
       "4         casual    January   12605\n",
       "16        member    January   67523\n",
       "17        member       July  330996\n",
       "5         casual       July  311670\n",
       "18        member       June  328281\n",
       "6         casual       June  292067\n",
       "19        member      March  148827\n",
       "7         casual      March   67154\n",
       "20        member        May  282299\n",
       "8         casual        May  220246\n",
       "21        member   November  182226\n",
       "9         casual   November   73536\n",
       "22        member    October  262943\n",
       "10        casual    October  151324\n",
       "11        casual  September  220913\n",
       "23        member  September  314227"
      ]
     },
     "execution_count": 33,
     "metadata": {},
     "output_type": "execute_result"
    }
   ],
   "source": [
    "months_stat = data[[\"month\", \"member_casual\"]].groupby([\"member_casual\", \"month\"]).agg({\"month\": [\"count\"]}).reset_index()\n",
    "\n",
    "months_stat.columns = months_stat.columns.droplevel()\n",
    "months_stat.columns.values[0] = \"member_casual\"\n",
    "months_stat.columns.values[1] = \"month\"\n",
    "\n",
    "months_stat.sort_values(by=\"month\")"
   ]
  },
  {
   "cell_type": "markdown",
   "id": "6604d59b",
   "metadata": {},
   "source": [
    "##### - Ordering by month"
   ]
  },
  {
   "cell_type": "code",
   "execution_count": 34,
   "id": "636eca95",
   "metadata": {},
   "outputs": [],
   "source": [
    "months_ordered = [\"January\", \n",
    "          \"February\", \n",
    "          \"March\", \n",
    "          \"April\", \n",
    "          \"May\", \n",
    "          \"June\", \n",
    "          \"July\", \n",
    "          \"August\", \n",
    "          \"September\", \n",
    "          \"October\", \n",
    "          \"November\", \n",
    "          \"December\"]\n",
    "\n",
    "months_stat[\"month\"] = pd.Categorical(months_stat[\"month\"], months_ordered)"
   ]
  },
  {
   "cell_type": "markdown",
   "id": "f51fb337",
   "metadata": {},
   "source": [
    "##### - Seasonality visualization"
   ]
  },
  {
   "cell_type": "code",
   "execution_count": 35,
   "id": "1dc61d8a",
   "metadata": {},
   "outputs": [
    {
     "data": {
      "image/png": "[encoded data removed]",
      "text/plain": [
       "<Figure size 1300x700 with 1 Axes>"
      ]
     },
     "metadata": {},
     "output_type": "display_data"
    }
   ],
   "source": [
    "plt.figure(figsize=(13, 7))\n",
    "\n",
    "ax = sns.lineplot(data=months_stat, x = \"month\", y = \"count\", hue = \"member_casual\")\n",
    "\n",
    "ax.set(xlabel=\"Month\",\n",
    "       ylabel=\"Quantity of Rides\",\n",
    "       title=\"Seasonality\")\n",
    "\n",
    "plt.show()"
   ]
  }
 ],
 "metadata": {
  "kernelspec": {
   "display_name": "Python 3 (ipykernel)",
   "language": "python",
   "name": "python3"
  },
  "language_info": {
   "codemirror_mode": {
    "name": "ipython",
    "version": 3
   },
   "file_extension": ".py",
   "mimetype": "text/x-python",
   "name": "python",
   "nbconvert_exporter": "python",
   "pygments_lexer": "ipython3",
   "version": "3.9.13"
  },
  "varInspector": {
   "cols": {
    "lenName": 16,
    "lenType": 16,
    "lenVar": 40
   },
   "kernels_config": {
    "python": {
     "delete_cmd_postfix": "",
     "delete_cmd_prefix": "del ",
     "library": "var_list.py",
     "varRefreshCmd": "print(var_dic_list())"
    },
    "r": {
     "delete_cmd_postfix": ") ",
     "delete_cmd_prefix": "rm(",
     "library": "var_list.r",
     "varRefreshCmd": "cat(var_dic_list()) "
    }
   },
   "types_to_exclude": [
    "module",
    "function",
    "builtin_function_or_method",
    "instance",
    "_Feature"
   ],
   "window_display": false
  }
 },
 "nbformat": 4,
 "nbformat_minor": 5
}
